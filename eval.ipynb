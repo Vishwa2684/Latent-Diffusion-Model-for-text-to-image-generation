{
 "cells": [
  {
   "cell_type": "code",
   "execution_count": 5,
   "metadata": {},
   "outputs": [
    {
     "data": {
      "application/vnd.jupyter.widget-view+json": {
       "model_id": "aab00972bb3a4f979b9fda85298e7bfc",
       "version_major": 2,
       "version_minor": 0
      },
      "text/plain": [
       "Fetching 3 files:   0%|          | 0/3 [00:00<?, ?it/s]"
      ]
     },
     "metadata": {},
     "output_type": "display_data"
    },
    {
     "data": {
      "application/vnd.jupyter.widget-view+json": {
       "model_id": "3eae3ed9f6564c34801e5663b3c76333",
       "version_major": 2,
       "version_minor": 0
      },
      "text/plain": [
       "config.json:   0%|          | 0.00/1.83k [00:00<?, ?B/s]"
      ]
     },
     "metadata": {},
     "output_type": "display_data"
    },
    {
     "data": {
      "application/vnd.jupyter.widget-view+json": {
       "model_id": "e4b5303b298f4e1181364c59b549053e",
       "version_major": 2,
       "version_minor": 0
      },
      "text/plain": [
       "training_state.pth:   0%|          | 0.00/1.68G [00:00<?, ?B/s]"
      ]
     },
     "metadata": {},
     "output_type": "display_data"
    },
    {
     "data": {
      "application/vnd.jupyter.widget-view+json": {
       "model_id": "9e8659a1d5e646d6a99e3f60d79a98cc",
       "version_major": 2,
       "version_minor": 0
      },
      "text/plain": [
       "diffusion_pytorch_model.safetensors:   0%|          | 0.00/559M [00:00<?, ?B/s]"
      ]
     },
     "metadata": {},
     "output_type": "display_data"
    },
    {
     "name": "stderr",
     "output_type": "stream",
     "text": [
      "Cannot initialize model with low cpu memory usage because `accelerate` was not found in the environment. Defaulting to `low_cpu_mem_usage=False`. It is strongly recommended to install `accelerate` for faster and less memory-intense model loading. You can do so with: \n",
      "```\n",
      "pip install accelerate\n",
      "```\n",
      ".\n",
      "Cannot initialize model with low cpu memory usage because `accelerate` was not found in the environment. Defaulting to `low_cpu_mem_usage=False`. It is strongly recommended to install `accelerate` for faster and less memory-intense model loading. You can do so with: \n",
      "```\n",
      "pip install accelerate\n",
      "```\n",
      ".\n"
     ]
    },
    {
     "name": "stdout",
     "output_type": "stream",
     "text": [
      "torch.Size([1, 3, 64, 64])\n",
      "Generated image saved as 'generated_images/generated.png'\n",
      "CLIP Score: 0.2607\n"
     ]
    },
    {
     "data": {
      "image/png": "[encoded data removed]",
      "text/plain": [
       "<Figure size 640x480 with 1 Axes>"
      ]
     },
     "metadata": {},
     "output_type": "display_data"
    }
   ],
   "source": [
    "import torch\n",
    "import matplotlib.pyplot as plt\n",
    "from diffusers import UNet2DConditionModel, DDPMScheduler, AutoencoderKL\n",
    "from transformers import CLIPTokenizer, CLIPTextModel,CLIPModel\n",
    "from PIL import Image\n",
    "import numpy as np\n",
    "import torch.nn.functional as F\n",
    "import os\n",
    "from torchvision.transforms import transforms\n",
    "from huggingface_hub import snapshot_download\n",
    "\n",
    "def generate_image_with_clip_score(prompt, num_inference_steps=50, guidance_scale=7.5):\n",
    "\n",
    "    device = \"cuda\" if torch.cuda.is_available() else \"cpu\"\n",
    "    \n",
    "    # Load models\n",
    "\n",
    "# Only download epoch_4\n",
    "    model_path = snapshot_download(\n",
    "        repo_id=\"vish26/latent-diffusion-model-64x64\",\n",
    "        repo_type=\"model\",\n",
    "        allow_patterns=[\"epoch_4/*\"]\n",
    "    )\n",
    "    model_path = os.path.join(model_path, \"epoch_4\")\n",
    "    \n",
    "    # Initialize models\n",
    "    unet = UNet2DConditionModel.from_pretrained(\n",
    "        os.path.join(model_path, \"unet\"),\n",
    "        use_safetensors=True\n",
    "    ).to(device)\n",
    "    text_encoder = CLIPTextModel.from_pretrained(\"openai/clip-vit-base-patch32\").to(device)\n",
    "    tokenizer = CLIPTokenizer.from_pretrained(\"openai/clip-vit-base-patch32\")\n",
    "    vae = AutoencoderKL.from_pretrained(\"stabilityai/sd-vae-ft-mse\").to(device)\n",
    "    scheduler = DDPMScheduler(num_train_timesteps=1000, beta_schedule=\"linear\")\n",
    "    clip = CLIPModel.from_pretrained(\"openai/clip-vit-base-patch32\").to(device)\n",
    "    # Load training state if needed\n",
    "    checkpoint = torch.load(os.path.join(model_path, \"training_state.pth\"), map_location=device)\n",
    "    unet.load_state_dict(checkpoint['model_state_dict'])\n",
    "    \n",
    "    # Set to evaluation mode\n",
    "    unet.eval()\n",
    "    text_encoder.eval()\n",
    "    vae.eval()\n",
    "    \n",
    "    # Encode text\n",
    "    text_input = tokenizer(\n",
    "        prompt,\n",
    "        padding=\"max_length\",\n",
    "        max_length=77,\n",
    "        truncation=True,\n",
    "        return_tensors=\"pt\"\n",
    "    ).to(device)\n",
    "    \n",
    "    # Create uncond input for classifier-free guidance\n",
    "    uncond_input = tokenizer(\n",
    "        [\"\"] * 1,  # Empty string for unconditional guidance\n",
    "        padding=\"max_length\",\n",
    "        max_length=77,\n",
    "        truncation=True,\n",
    "        return_tensors=\"pt\"\n",
    "    ).to(device)\n",
    "    \n",
    "    with torch.no_grad():\n",
    "        text_embeddings = text_encoder(text_input.input_ids)[0]\n",
    "        uncond_embeddings = text_encoder(uncond_input.input_ids)[0]\n",
    "        text_embeddings = torch.cat([uncond_embeddings, text_embeddings])\n",
    "    \n",
    "    # Initialize random latents\n",
    "    latents = torch.randn(\n",
    "        (1, 4, 8, 8)  # Adjust dimensions to match training\n",
    "    ).to(device)\n",
    "    latents = latents * scheduler.init_noise_sigma\n",
    "    \n",
    "    # Denoising loop\n",
    "    scheduler.set_timesteps(num_inference_steps)\n",
    "    for t in scheduler.timesteps:\n",
    "        # Expand latents for classifier-free guidance\n",
    "        latent_model_input = torch.cat([latents] * 2)\n",
    "        \n",
    "        # Scale latents according to timestep\n",
    "        latent_model_input = scheduler.scale_model_input(latent_model_input, t)\n",
    "        \n",
    "        # Predict noise residual\n",
    "        with torch.no_grad():\n",
    "            noise_pred = unet(\n",
    "                latent_model_input,\n",
    "                t,\n",
    "                encoder_hidden_states=text_embeddings\n",
    "            ).sample\n",
    "        \n",
    "        # Perform guidance\n",
    "        noise_pred_uncond, noise_pred_text = noise_pred.chunk(2)\n",
    "        noise_pred = noise_pred_uncond + guidance_scale * (noise_pred_text - noise_pred_uncond)\n",
    "        \n",
    "        # Compute previous noisy sample\n",
    "        latents = scheduler.step(noise_pred, t, latents).prev_sample\n",
    "    \n",
    "    # Decode latents to image\n",
    "    latents = 1 / 0.18215 * latents\n",
    "    with torch.no_grad():\n",
    "        image = vae.decode(latents).sample\n",
    "    print(image.shape)\n",
    "    \n",
    "    image = (image / 2 + 0.5).clamp(0, 1)\n",
    "    image_tensor = image.detach().cpu()\n",
    "    image = image_tensor.permute(0, 2, 3, 1).squeeze(0).numpy()  # Convert to shape [512, 512, 3]\n",
    "    image = (image * 255).round().astype(\"uint8\")\n",
    "    \n",
    "    image = Image.fromarray(image)\n",
    "\n",
    "    \n",
    "    # Calculate CLIP score\n",
    "    transform = transforms.Compose([\n",
    "        transforms.Resize((224, 224)),\n",
    "        transforms.ToTensor(),\n",
    "        transforms.Normalize([0.5], [0.5])\n",
    "    ])\n",
    "    processed_image = transform(image).unsqueeze(0).to(device)\n",
    "    with torch.no_grad():\n",
    "        image_features = clip.get_image_features(processed_image)\n",
    "        image_features = F.normalize(image_features, dim=-1)\n",
    "        \n",
    "        text_features = clip.get_text_features(text_input.input_ids)\n",
    "        text_features = F.normalize(text_features, dim=-1)\n",
    "        clip_score = (image_features * text_features).sum(dim=-1).item()\n",
    "    \n",
    "    return image, clip_score\n",
    "\n",
    "# Example usage\n",
    "prompt = \"A very clean bathroom\"\n",
    "generated_image, clip_score = generate_image_with_clip_score(prompt)\n",
    "os.makedirs(\"generated_images\", exist_ok=True)\n",
    "generated_image.save(\"generated_images/generated.png\")\n",
    "print(f\"Generated image saved as 'generated_images/generated.png'\")\n",
    "plt.imshow(generated_image)\n",
    "print(f\"CLIP Score: {clip_score:.4f}\")"
   ]
  }
 ],
 "metadata": {
  "kernelspec": {
   "display_name": "Python 3",
   "language": "python",
   "name": "python3"
  },
  "language_info": {
   "codemirror_mode": {
    "name": "ipython",
    "version": 3
   },
   "file_extension": ".py",
   "mimetype": "text/x-python",
   "name": "python",
   "nbconvert_exporter": "python",
   "pygments_lexer": "ipython3",
   "version": "3.12.8"
  }
 },
 "nbformat": 4,
 "nbformat_minor": 2
}
